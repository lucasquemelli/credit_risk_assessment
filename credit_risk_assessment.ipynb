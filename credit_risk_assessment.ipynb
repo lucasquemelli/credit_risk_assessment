{
 "cells": [
  {
   "cell_type": "markdown",
   "id": "334e1989",
   "metadata": {},
   "source": [
    "# Libraries"
   ]
  },
  {
   "cell_type": "code",
   "execution_count": 3,
   "id": "4184a2e1",
   "metadata": {
    "ExecuteTime": {
     "end_time": "2023-11-29T14:27:58.964905Z",
     "start_time": "2023-11-29T14:27:51.805886Z"
    }
   },
   "outputs": [],
   "source": [
    "import pandas as pd\n",
    "import inflection\n",
    "import missingno as msno\n",
    "import seaborn as sns\n",
    "import numpy as np\n",
    "import re\n",
    "\n",
    "import scipy.stats as stats\n",
    "from scipy import stats as ss\n",
    "from scipy.stats import chi2_contingency\n",
    "from matplotlib import pyplot as plt\n",
    "from IPython.display import Image\n",
    "from utils import *\n",
    "\n",
    "import ipywidgets as widgets\n",
    "from ipywidgets import interact\n",
    "import plotly.express as px\n",
    "\n",
    "from bokeh.plotting import figure, show, output_file\n",
    "from bokeh.models import ColumnDataSource, HoverTool, CDSView, IndexFilter\n",
    "from bokeh.layouts import row, column\n",
    "from scipy.stats import gaussian_kde\n",
    "from bokeh.models import RangeSlider\n",
    "\n",
    "from sklearn import preprocessing as pp\n",
    "from imblearn import under_sampling as us\n",
    "from imblearn import over_sampling as oversamp\n",
    "from pandas_profiling import ProfileReport\n",
    "from category_encoders import TargetEncoder\n",
    "from sklearn.preprocessing import LabelEncoder\n",
    "from sklearn import model_selection as ms\n",
    "from boruta import BorutaPy\n",
    "from sklearn.ensemble import RandomForestRegressor\n",
    "\n",
    "from sklearn.cluster import KMeans\n",
    "import matplotlib.gridspec as gridspec\n",
    "from sklearn.cluster import DBSCAN\n",
    "\n",
    "import random\n",
    "from sklearn import metrics as m\n",
    "from sklearn.metrics import classification_report, cohen_kappa_score, roc_curve, brier_score_loss\n",
    "from sklearn.metrics import accuracy_score, classification_report, cohen_kappa_score, recall_score, f1_score, roc_auc_score, precision_score, roc_curve\n",
    "#from sklearn.metrics import plot_precision_recall_curve\n",
    "\n",
    "from scikitplot import metrics as mt\n",
    "from sklearn.linear_model import LogisticRegression, SGDClassifier\n",
    "from sklearn.model_selection import train_test_split, RepeatedStratifiedKFold, cross_val_score, cross_val_predict, RandomizedSearchCV\n",
    "from imblearn.ensemble import BalancedRandomForestClassifier\n",
    "from sklearn.ensemble import RandomForestRegressor, GradientBoostingClassifier, RandomForestClassifier\n",
    "from sklearn import svm\n",
    "import xgboost as xgb\n",
    "from sklearn.neighbors import KNeighborsClassifier\n",
    "from lightgbm import LGBMClassifier\n",
    "from catboost import CatBoostClassifier\n",
    "from sklearn.neural_network import MLPClassifier\n",
    "\n",
    "from sklearn.model_selection import RandomizedSearchCV, GridSearchCV\n",
    "from sklearn.decomposition import PCA\n",
    "import category_encoders\n",
    "\n",
    "from datetime import datetime, timedelta\n",
    "import pickle"
   ]
  },
  {
   "cell_type": "markdown",
   "id": "4d79f26a",
   "metadata": {},
   "source": [
    "# Loading Data"
   ]
  },
  {
   "cell_type": "code",
   "execution_count": 1,
   "id": "01753960",
   "metadata": {
    "ExecuteTime": {
     "end_time": "2023-11-29T14:26:40.938708Z",
     "start_time": "2023-11-29T14:26:40.911532Z"
    }
   },
   "outputs": [
    {
     "data": {
      "text/plain": [
       "'/Users/lucasquemelli/Documents/repos/credit_risk_assessment'"
      ]
     },
     "execution_count": 1,
     "metadata": {},
     "output_type": "execute_result"
    }
   ],
   "source": [
    "pwd"
   ]
  },
  {
   "cell_type": "code",
   "execution_count": 4,
   "id": "c592449f",
   "metadata": {
    "ExecuteTime": {
     "end_time": "2023-11-29T14:27:59.019708Z",
     "start_time": "2023-11-29T14:27:58.967201Z"
    }
   },
   "outputs": [
    {
     "data": {
      "text/html": [
       "<div>\n",
       "<style scoped>\n",
       "    .dataframe tbody tr th:only-of-type {\n",
       "        vertical-align: middle;\n",
       "    }\n",
       "\n",
       "    .dataframe tbody tr th {\n",
       "        vertical-align: top;\n",
       "    }\n",
       "\n",
       "    .dataframe thead th {\n",
       "        text-align: right;\n",
       "    }\n",
       "</style>\n",
       "<table border=\"1\" class=\"dataframe\">\n",
       "  <thead>\n",
       "    <tr style=\"text-align: right;\">\n",
       "      <th></th>\n",
       "      <th>person_age</th>\n",
       "      <th>person_income</th>\n",
       "      <th>person_home_ownership</th>\n",
       "      <th>person_emp_length</th>\n",
       "      <th>loan_intent</th>\n",
       "      <th>loan_grade</th>\n",
       "      <th>loan_amnt</th>\n",
       "      <th>loan_int_rate</th>\n",
       "      <th>loan_status</th>\n",
       "      <th>loan_percent_income</th>\n",
       "      <th>cb_person_default_on_file</th>\n",
       "      <th>cb_person_cred_hist_length</th>\n",
       "    </tr>\n",
       "  </thead>\n",
       "  <tbody>\n",
       "    <tr>\n",
       "      <th>0</th>\n",
       "      <td>22</td>\n",
       "      <td>59000</td>\n",
       "      <td>RENT</td>\n",
       "      <td>123.0</td>\n",
       "      <td>PERSONAL</td>\n",
       "      <td>D</td>\n",
       "      <td>35000</td>\n",
       "      <td>16.02</td>\n",
       "      <td>1</td>\n",
       "      <td>0.59</td>\n",
       "      <td>Y</td>\n",
       "      <td>3</td>\n",
       "    </tr>\n",
       "    <tr>\n",
       "      <th>1</th>\n",
       "      <td>21</td>\n",
       "      <td>9600</td>\n",
       "      <td>OWN</td>\n",
       "      <td>5.0</td>\n",
       "      <td>EDUCATION</td>\n",
       "      <td>B</td>\n",
       "      <td>1000</td>\n",
       "      <td>11.14</td>\n",
       "      <td>0</td>\n",
       "      <td>0.10</td>\n",
       "      <td>N</td>\n",
       "      <td>2</td>\n",
       "    </tr>\n",
       "    <tr>\n",
       "      <th>2</th>\n",
       "      <td>25</td>\n",
       "      <td>9600</td>\n",
       "      <td>MORTGAGE</td>\n",
       "      <td>1.0</td>\n",
       "      <td>MEDICAL</td>\n",
       "      <td>C</td>\n",
       "      <td>5500</td>\n",
       "      <td>12.87</td>\n",
       "      <td>1</td>\n",
       "      <td>0.57</td>\n",
       "      <td>N</td>\n",
       "      <td>3</td>\n",
       "    </tr>\n",
       "    <tr>\n",
       "      <th>3</th>\n",
       "      <td>23</td>\n",
       "      <td>65500</td>\n",
       "      <td>RENT</td>\n",
       "      <td>4.0</td>\n",
       "      <td>MEDICAL</td>\n",
       "      <td>C</td>\n",
       "      <td>35000</td>\n",
       "      <td>15.23</td>\n",
       "      <td>1</td>\n",
       "      <td>0.53</td>\n",
       "      <td>N</td>\n",
       "      <td>2</td>\n",
       "    </tr>\n",
       "    <tr>\n",
       "      <th>4</th>\n",
       "      <td>24</td>\n",
       "      <td>54400</td>\n",
       "      <td>RENT</td>\n",
       "      <td>8.0</td>\n",
       "      <td>MEDICAL</td>\n",
       "      <td>C</td>\n",
       "      <td>35000</td>\n",
       "      <td>14.27</td>\n",
       "      <td>1</td>\n",
       "      <td>0.55</td>\n",
       "      <td>Y</td>\n",
       "      <td>4</td>\n",
       "    </tr>\n",
       "  </tbody>\n",
       "</table>\n",
       "</div>"
      ],
      "text/plain": [
       "   person_age  person_income person_home_ownership  person_emp_length  \\\n",
       "0          22          59000                  RENT              123.0   \n",
       "1          21           9600                   OWN                5.0   \n",
       "2          25           9600              MORTGAGE                1.0   \n",
       "3          23          65500                  RENT                4.0   \n",
       "4          24          54400                  RENT                8.0   \n",
       "\n",
       "  loan_intent loan_grade  loan_amnt  loan_int_rate  loan_status  \\\n",
       "0    PERSONAL          D      35000          16.02            1   \n",
       "1   EDUCATION          B       1000          11.14            0   \n",
       "2     MEDICAL          C       5500          12.87            1   \n",
       "3     MEDICAL          C      35000          15.23            1   \n",
       "4     MEDICAL          C      35000          14.27            1   \n",
       "\n",
       "   loan_percent_income cb_person_default_on_file  cb_person_cred_hist_length  \n",
       "0                 0.59                         Y                           3  \n",
       "1                 0.10                         N                           2  \n",
       "2                 0.57                         N                           3  \n",
       "3                 0.53                         N                           2  \n",
       "4                 0.55                         Y                           4  "
      ]
     },
     "execution_count": 4,
     "metadata": {},
     "output_type": "execute_result"
    }
   ],
   "source": [
    "data = pd.read_csv(\"/Users/lucasquemelli/Documents/repos/credit_risk_assessment/credit_risk_dataset.csv\")\n",
    "data.head()"
   ]
  },
  {
   "cell_type": "code",
   "execution_count": 5,
   "id": "14e10247",
   "metadata": {
    "ExecuteTime": {
     "end_time": "2023-11-29T14:28:26.670912Z",
     "start_time": "2023-11-29T14:28:26.666271Z"
    }
   },
   "outputs": [
    {
     "data": {
      "text/plain": [
       "Index(['person_age', 'person_income', 'person_home_ownership',\n",
       "       'person_emp_length', 'loan_intent', 'loan_grade', 'loan_amnt',\n",
       "       'loan_int_rate', 'loan_status', 'loan_percent_income',\n",
       "       'cb_person_default_on_file', 'cb_person_cred_hist_length'],\n",
       "      dtype='object')"
      ]
     },
     "execution_count": 5,
     "metadata": {},
     "output_type": "execute_result"
    }
   ],
   "source": [
    "data.columns"
   ]
  },
  {
   "cell_type": "markdown",
   "id": "246574c7",
   "metadata": {},
   "source": [
    "# Duplication Analysis"
   ]
  },
  {
   "cell_type": "markdown",
   "id": "8d47b7fc",
   "metadata": {
    "ExecuteTime": {
     "end_time": "2023-11-29T14:30:23.779035Z",
     "start_time": "2023-11-29T14:30:23.774492Z"
    }
   },
   "source": [
    "Since this analysis should be at user level, would it be affordable to have repeated rows?\n",
    "        \n",
    "        * Ideally, we should have some column-key such as userid to identify any specific user. "
   ]
  },
  {
   "cell_type": "code",
   "execution_count": 7,
   "id": "cd8fd1dd",
   "metadata": {
    "ExecuteTime": {
     "end_time": "2023-11-29T14:30:49.974116Z",
     "start_time": "2023-11-29T14:30:49.969993Z"
    }
   },
   "outputs": [
    {
     "data": {
      "text/plain": [
       "32581"
      ]
     },
     "execution_count": 7,
     "metadata": {},
     "output_type": "execute_result"
    }
   ],
   "source": [
    "data.shape[0]"
   ]
  },
  {
   "cell_type": "code",
   "execution_count": 8,
   "id": "691f4aa6",
   "metadata": {
    "ExecuteTime": {
     "end_time": "2023-11-29T14:31:04.614746Z",
     "start_time": "2023-11-29T14:31:04.595220Z"
    }
   },
   "outputs": [],
   "source": [
    "data.drop_duplicates(inplace=True)"
   ]
  },
  {
   "cell_type": "code",
   "execution_count": 9,
   "id": "35c88a1a",
   "metadata": {
    "ExecuteTime": {
     "end_time": "2023-11-29T14:31:08.419474Z",
     "start_time": "2023-11-29T14:31:08.415172Z"
    }
   },
   "outputs": [
    {
     "data": {
      "text/plain": [
       "32416"
      ]
     },
     "execution_count": 9,
     "metadata": {},
     "output_type": "execute_result"
    }
   ],
   "source": [
    "data.shape[0]"
   ]
  },
  {
   "cell_type": "markdown",
   "id": "e678c1aa",
   "metadata": {},
   "source": [
    "# Helper Functions"
   ]
  },
  {
   "cell_type": "code",
   "execution_count": 10,
   "id": "64aef5b5",
   "metadata": {
    "ExecuteTime": {
     "end_time": "2023-11-29T14:35:29.977758Z",
     "start_time": "2023-11-29T14:35:29.973875Z"
    }
   },
   "outputs": [],
   "source": [
    "def cramers_v(x, y):\n",
    "    confusion_matrix = pd.crosstab(x, y).values\n",
    "    n = confusion_matrix.sum()\n",
    "    r,k = confusion_matrix.shape\n",
    "   \n",
    "    chi2 = chi2_contingency(confusion_matrix)[0]\n",
    "    phi2 = chi2/n\n",
    "    phi2corr = max(0, phi2-((k-1)*(r-1))/(n-1))\n",
    "   \n",
    "    rcorr = r-((r-1)**2)/(n-1)\n",
    "    kcorr = k-((k-1)**2)/(n-1)\n",
    "    return np.sqrt(phi2corr/min((kcorr-1),(rcorr-1)))"
   ]
  },
  {
   "cell_type": "markdown",
   "id": "559261ed",
   "metadata": {},
   "source": [
    "# 1. Data Description"
   ]
  },
  {
   "cell_type": "code",
   "execution_count": 12,
   "id": "aa8ae3ff",
   "metadata": {
    "ExecuteTime": {
     "end_time": "2023-11-29T14:46:43.686668Z",
     "start_time": "2023-11-29T14:46:43.681807Z"
    }
   },
   "outputs": [],
   "source": [
    "df1 = data.copy()"
   ]
  },
  {
   "cell_type": "markdown",
   "id": "396ad28f",
   "metadata": {},
   "source": [
    "- person_age: Age of the individual applying for the loan.\n",
    "\n",
    "- person_income: Annual income of the individual.\n",
    "\n",
    "- person_home_ownership: Type of home ownership of the individual.\n",
    "\n",
    "        - rent: The individual is currently renting a property.\n",
    "        - mortgage: The individual has a mortgage on the property they own.\n",
    "        - own: The individual owns their home outright.\n",
    "        - other: Other categories of home ownership that may be specific to the dataset.\n",
    "        \n",
    "- person_emp_length: Employment length of the individual in years.\n",
    "\n",
    "- loan_intent: The intent behind the loan application.\n",
    "\n",
    "- loan_grade: The grade assigned to the loan based on the creditworthiness of the borrower.\n",
    "\n",
    "        - A: The borrower has a high creditworthiness, indicating low risk.\n",
    "        - B: The borrower is relatively low-risk, but not as creditworthy as Grade A.\n",
    "        - C: The borrower's creditworthiness is moderate.\n",
    "        - D: The borrower is considered to have higher risk compared to previous grades.\n",
    "        - E: The borrower's creditworthiness is lower, indicating a higher risk.\n",
    "        - F: The borrower poses a significant credit risk.\n",
    "        - G: The borrower's creditworthiness is the lowest, signifying the highest risk.\n",
    "        \n",
    "- loan_amnt: The loan amount requested by the individual.\n",
    "\n",
    "- loan_int_rate: The interest rate associated with the loan.\n",
    "\n",
    "- loan_status: Loan status, where 0 indicates non-default and 1 indicates default.\n",
    "\n",
    "        - 0: Non-default - The borrower successfully repaid the loan as agreed, and there was no default.\n",
    "        - 1: Default - The borrower failed to repay the loan according to the agreed-upon terms and defaulted on the loan.\n",
    "        \n",
    "- loan_percent_income: The percentage of income represented by the loan amount.\n",
    "\n",
    "- cb_person_default_on_file: Historical default of the individual as per credit bureau records.\n",
    "\n",
    "        - Y: The individual has a history of defaults on their credit file.\n",
    "        - N: The individual does not have any history of defaults.\n",
    "        \n",
    "- cb_person_cred_hist_length: The length of credit history for the individual."
   ]
  },
  {
   "cell_type": "markdown",
   "id": "c9c28751",
   "metadata": {},
   "source": [
    "## 1.1. Data Dimensions"
   ]
  },
  {
   "cell_type": "code",
   "execution_count": 13,
   "id": "e14f1765",
   "metadata": {
    "ExecuteTime": {
     "end_time": "2023-11-29T14:46:47.421349Z",
     "start_time": "2023-11-29T14:46:47.417854Z"
    }
   },
   "outputs": [
    {
     "name": "stdout",
     "output_type": "stream",
     "text": [
      "Number of rows: 32416\n",
      "Number of cols: 12\n"
     ]
    }
   ],
   "source": [
    "print(\"Number of rows: {}\".format(df1.shape[0]))\n",
    "print(\"Number of cols: {}\".format(df1.shape[1]))"
   ]
  },
  {
   "cell_type": "markdown",
   "id": "1516c587",
   "metadata": {},
   "source": [
    "## 1.2. Data Types"
   ]
  },
  {
   "cell_type": "code",
   "execution_count": 14,
   "id": "edef741d",
   "metadata": {
    "ExecuteTime": {
     "end_time": "2023-11-29T14:47:12.262713Z",
     "start_time": "2023-11-29T14:47:12.257507Z"
    }
   },
   "outputs": [
    {
     "data": {
      "text/plain": [
       "person_age                      int64\n",
       "person_income                   int64\n",
       "person_home_ownership          object\n",
       "person_emp_length             float64\n",
       "loan_intent                    object\n",
       "loan_grade                     object\n",
       "loan_amnt                       int64\n",
       "loan_int_rate                 float64\n",
       "loan_status                     int64\n",
       "loan_percent_income           float64\n",
       "cb_person_default_on_file      object\n",
       "cb_person_cred_hist_length      int64\n",
       "dtype: object"
      ]
     },
     "execution_count": 14,
     "metadata": {},
     "output_type": "execute_result"
    }
   ],
   "source": [
    "df1.dtypes"
   ]
  },
  {
   "cell_type": "markdown",
   "id": "60866e78",
   "metadata": {},
   "source": [
    "## 1.3. Na Check"
   ]
  },
  {
   "cell_type": "code",
   "execution_count": 15,
   "id": "0baac206",
   "metadata": {
    "ExecuteTime": {
     "end_time": "2023-11-29T14:49:05.075938Z",
     "start_time": "2023-11-29T14:49:05.052001Z"
    }
   },
   "outputs": [
    {
     "data": {
      "text/plain": [
       "person_age                       0\n",
       "person_income                    0\n",
       "person_home_ownership            0\n",
       "person_emp_length              887\n",
       "loan_intent                      0\n",
       "loan_grade                       0\n",
       "loan_amnt                        0\n",
       "loan_int_rate                 3095\n",
       "loan_status                      0\n",
       "loan_percent_income              0\n",
       "cb_person_default_on_file        0\n",
       "cb_person_cred_hist_length       0\n",
       "dtype: int64"
      ]
     },
     "execution_count": 15,
     "metadata": {},
     "output_type": "execute_result"
    }
   ],
   "source": [
    "df1.isna().sum()"
   ]
  },
  {
   "cell_type": "code",
   "execution_count": 19,
   "id": "8c5c5dde",
   "metadata": {
    "ExecuteTime": {
     "end_time": "2023-11-29T14:51:10.741846Z",
     "start_time": "2023-11-29T14:51:10.737779Z"
    }
   },
   "outputs": [
    {
     "data": {
      "text/plain": [
       "0.0"
      ]
     },
     "execution_count": 19,
     "metadata": {},
     "output_type": "execute_result"
    }
   ],
   "source": [
    "df1[\"person_emp_length\"].min()"
   ]
  },
  {
   "cell_type": "code",
   "execution_count": 18,
   "id": "a5be9ea7",
   "metadata": {
    "ExecuteTime": {
     "end_time": "2023-11-29T14:51:03.506453Z",
     "start_time": "2023-11-29T14:51:03.502366Z"
    }
   },
   "outputs": [
    {
     "data": {
      "text/plain": [
       "5.42"
      ]
     },
     "execution_count": 18,
     "metadata": {},
     "output_type": "execute_result"
    }
   ],
   "source": [
    "df1[\"loan_int_rate\"].min()"
   ]
  },
  {
   "cell_type": "code",
   "execution_count": 20,
   "id": "c3f3870e",
   "metadata": {
    "ExecuteTime": {
     "end_time": "2023-11-29T14:51:46.520496Z",
     "start_time": "2023-11-29T14:51:46.517059Z"
    }
   },
   "outputs": [
    {
     "data": {
      "text/plain": [
       "23.22"
      ]
     },
     "execution_count": 20,
     "metadata": {},
     "output_type": "execute_result"
    }
   ],
   "source": [
    "df1[\"loan_int_rate\"].max()"
   ]
  },
  {
   "cell_type": "code",
   "execution_count": 21,
   "id": "6028fa9d",
   "metadata": {
    "ExecuteTime": {
     "end_time": "2023-11-29T14:52:11.167244Z",
     "start_time": "2023-11-29T14:52:11.162423Z"
    }
   },
   "outputs": [],
   "source": [
    "df1[\"person_emp_length\"] = df1[\"person_emp_length\"].fillna(-1.0)\n",
    "\n",
    "df1[\"loan_int_rate\"] = df1[\"loan_int_rate\"].fillna(-1.0)"
   ]
  },
  {
   "cell_type": "code",
   "execution_count": 22,
   "id": "baa24ca4",
   "metadata": {
    "ExecuteTime": {
     "end_time": "2023-11-29T14:52:20.513506Z",
     "start_time": "2023-11-29T14:52:20.488911Z"
    }
   },
   "outputs": [
    {
     "data": {
      "text/plain": [
       "person_age                    0\n",
       "person_income                 0\n",
       "person_home_ownership         0\n",
       "person_emp_length             0\n",
       "loan_intent                   0\n",
       "loan_grade                    0\n",
       "loan_amnt                     0\n",
       "loan_int_rate                 0\n",
       "loan_status                   0\n",
       "loan_percent_income           0\n",
       "cb_person_default_on_file     0\n",
       "cb_person_cred_hist_length    0\n",
       "dtype: int64"
      ]
     },
     "execution_count": 22,
     "metadata": {},
     "output_type": "execute_result"
    }
   ],
   "source": [
    "df1.isna().sum()"
   ]
  },
  {
   "cell_type": "markdown",
   "id": "bdcfaf00",
   "metadata": {},
   "source": [
    "## 1.4. Descriptive Statistics"
   ]
  },
  {
   "cell_type": "code",
   "execution_count": 23,
   "id": "01b6e342",
   "metadata": {
    "ExecuteTime": {
     "end_time": "2023-11-29T14:52:58.552138Z",
     "start_time": "2023-11-29T14:52:58.546395Z"
    }
   },
   "outputs": [],
   "source": [
    "num_attributes = df1.select_dtypes(include=['int32', 'int64', 'float32', 'float64'])\n",
    "cat_attributes = df1.select_dtypes(include=['object', 'category'])"
   ]
  },
  {
   "cell_type": "markdown",
   "id": "6cbc450a",
   "metadata": {},
   "source": [
    "### 1.4.1. Numerical Attributes"
   ]
  },
  {
   "cell_type": "code",
   "execution_count": 24,
   "id": "20bdf101",
   "metadata": {
    "ExecuteTime": {
     "end_time": "2023-11-29T14:53:20.766052Z",
     "start_time": "2023-11-29T14:53:20.686998Z"
    }
   },
   "outputs": [
    {
     "data": {
      "text/html": [
       "<div>\n",
       "<style scoped>\n",
       "    .dataframe tbody tr th:only-of-type {\n",
       "        vertical-align: middle;\n",
       "    }\n",
       "\n",
       "    .dataframe tbody tr th {\n",
       "        vertical-align: top;\n",
       "    }\n",
       "\n",
       "    .dataframe thead th {\n",
       "        text-align: right;\n",
       "    }\n",
       "</style>\n",
       "<table border=\"1\" class=\"dataframe\">\n",
       "  <thead>\n",
       "    <tr style=\"text-align: right;\">\n",
       "      <th></th>\n",
       "      <th>attributes</th>\n",
       "      <th>min</th>\n",
       "      <th>max</th>\n",
       "      <th>range</th>\n",
       "      <th>mean</th>\n",
       "      <th>median</th>\n",
       "      <th>std</th>\n",
       "      <th>skew</th>\n",
       "      <th>kurtosis</th>\n",
       "    </tr>\n",
       "  </thead>\n",
       "  <tbody>\n",
       "    <tr>\n",
       "      <th>0</th>\n",
       "      <td>person_age</td>\n",
       "      <td>20.000</td>\n",
       "      <td>144.000</td>\n",
       "      <td>124.000</td>\n",
       "      <td>27.747</td>\n",
       "      <td>26.000</td>\n",
       "      <td>6.354</td>\n",
       "      <td>2.580</td>\n",
       "      <td>18.560</td>\n",
       "    </tr>\n",
       "    <tr>\n",
       "      <th>1</th>\n",
       "      <td>person_income</td>\n",
       "      <td>4000.000</td>\n",
       "      <td>6000000.000</td>\n",
       "      <td>5996000.000</td>\n",
       "      <td>66091.641</td>\n",
       "      <td>55000.000</td>\n",
       "      <td>62014.624</td>\n",
       "      <td>32.959</td>\n",
       "      <td>2701.116</td>\n",
       "    </tr>\n",
       "    <tr>\n",
       "      <th>2</th>\n",
       "      <td>person_emp_length</td>\n",
       "      <td>-1.000</td>\n",
       "      <td>123.000</td>\n",
       "      <td>124.000</td>\n",
       "      <td>4.632</td>\n",
       "      <td>4.000</td>\n",
       "      <td>4.196</td>\n",
       "      <td>2.499</td>\n",
       "      <td>40.846</td>\n",
       "    </tr>\n",
       "    <tr>\n",
       "      <th>3</th>\n",
       "      <td>loan_amnt</td>\n",
       "      <td>500.000</td>\n",
       "      <td>35000.000</td>\n",
       "      <td>34500.000</td>\n",
       "      <td>9593.846</td>\n",
       "      <td>8000.000</td>\n",
       "      <td>6322.633</td>\n",
       "      <td>1.192</td>\n",
       "      <td>1.421</td>\n",
       "    </tr>\n",
       "    <tr>\n",
       "      <th>4</th>\n",
       "      <td>loan_int_rate</td>\n",
       "      <td>-1.000</td>\n",
       "      <td>23.220</td>\n",
       "      <td>24.220</td>\n",
       "      <td>9.870</td>\n",
       "      <td>10.620</td>\n",
       "      <td>4.688</td>\n",
       "      <td>-0.798</td>\n",
       "      <td>0.461</td>\n",
       "    </tr>\n",
       "    <tr>\n",
       "      <th>5</th>\n",
       "      <td>loan_status</td>\n",
       "      <td>0.000</td>\n",
       "      <td>1.000</td>\n",
       "      <td>1.000</td>\n",
       "      <td>0.219</td>\n",
       "      <td>0.000</td>\n",
       "      <td>0.413</td>\n",
       "      <td>1.361</td>\n",
       "      <td>-0.147</td>\n",
       "    </tr>\n",
       "    <tr>\n",
       "      <th>6</th>\n",
       "      <td>loan_percent_income</td>\n",
       "      <td>0.000</td>\n",
       "      <td>0.830</td>\n",
       "      <td>0.830</td>\n",
       "      <td>0.170</td>\n",
       "      <td>0.150</td>\n",
       "      <td>0.107</td>\n",
       "      <td>1.064</td>\n",
       "      <td>1.218</td>\n",
       "    </tr>\n",
       "    <tr>\n",
       "      <th>7</th>\n",
       "      <td>cb_person_cred_hist_length</td>\n",
       "      <td>2.000</td>\n",
       "      <td>30.000</td>\n",
       "      <td>28.000</td>\n",
       "      <td>5.811</td>\n",
       "      <td>4.000</td>\n",
       "      <td>4.059</td>\n",
       "      <td>1.659</td>\n",
       "      <td>3.706</td>\n",
       "    </tr>\n",
       "  </tbody>\n",
       "</table>\n",
       "</div>"
      ],
      "text/plain": [
       "                   attributes      min         max       range      mean  \\\n",
       "0                  person_age   20.000     144.000     124.000    27.747   \n",
       "1               person_income 4000.000 6000000.000 5996000.000 66091.641   \n",
       "2           person_emp_length   -1.000     123.000     124.000     4.632   \n",
       "3                   loan_amnt  500.000   35000.000   34500.000  9593.846   \n",
       "4               loan_int_rate   -1.000      23.220      24.220     9.870   \n",
       "5                 loan_status    0.000       1.000       1.000     0.219   \n",
       "6         loan_percent_income    0.000       0.830       0.830     0.170   \n",
       "7  cb_person_cred_hist_length    2.000      30.000      28.000     5.811   \n",
       "\n",
       "     median       std   skew  kurtosis  \n",
       "0    26.000     6.354  2.580    18.560  \n",
       "1 55000.000 62014.624 32.959  2701.116  \n",
       "2     4.000     4.196  2.499    40.846  \n",
       "3  8000.000  6322.633  1.192     1.421  \n",
       "4    10.620     4.688 -0.798     0.461  \n",
       "5     0.000     0.413  1.361    -0.147  \n",
       "6     0.150     0.107  1.064     1.218  \n",
       "7     4.000     4.059  1.659     3.706  "
      ]
     },
     "execution_count": 24,
     "metadata": {},
     "output_type": "execute_result"
    }
   ],
   "source": [
    "pd.set_option('display.float_format', lambda x: '%.3f' % x)\n",
    "\n",
    "# Central Tendency - Mean, Mediana\n",
    "ct1 = pd.DataFrame(num_attributes.apply(np.mean)).T\n",
    "ct2 = pd.DataFrame(num_attributes.apply(np.median)).T\n",
    "\n",
    "# Dispersions - Std, Min, Max, Range, Skew, Kurtosis\n",
    "d1 = pd.DataFrame(num_attributes.apply(np.std)).T\n",
    "d2 = pd.DataFrame(num_attributes.apply(min)).T\n",
    "d3 = pd.DataFrame(num_attributes.apply(max)).T\n",
    "d4 = pd.DataFrame(num_attributes.apply(lambda x: x.max() - x.min())).T\n",
    "d5 = pd.DataFrame(num_attributes.apply(lambda x: x.skew())).T\n",
    "d6 = pd.DataFrame(num_attributes.apply(lambda x: x.kurtosis())).T\n",
    "\n",
    "# Concatenate\n",
    "ct = pd.concat([d2, d3, d4, ct1, ct2, d1, d5, d6]).T.reset_index()\n",
    "ct.columns = ['attributes', 'min', 'max', 'range', 'mean', 'median', 'std', 'skew', 'kurtosis']\n",
    "ct"
   ]
  },
  {
   "cell_type": "markdown",
   "id": "ab8bff5a",
   "metadata": {},
   "source": [
    "- There is no person in the world with age of 144. We must treat outliers for person_age.\n",
    "- person_emp_length equals to 123 seems inadequate. We must analyze with a distribution to idenfify outliers.\n",
    "- It seems the majority of people have lower income, since we found a high standard deviation and positive skew."
   ]
  },
  {
   "cell_type": "markdown",
   "id": "248aac7e",
   "metadata": {},
   "source": [
    "#### Person Age"
   ]
  },
  {
   "cell_type": "code",
   "execution_count": 25,
   "id": "7885bfa0",
   "metadata": {
    "ExecuteTime": {
     "end_time": "2023-11-29T14:59:04.844942Z",
     "start_time": "2023-11-29T14:59:03.910805Z"
    }
   },
   "outputs": [
    {
     "name": "stderr",
     "output_type": "stream",
     "text": [
      "/opt/anaconda3/lib/python3.9/site-packages/seaborn/distributions.py:2619: FutureWarning: `distplot` is a deprecated function and will be removed in a future version. Please adapt your code to use either `displot` (a figure-level function with similar flexibility) or `histplot` (an axes-level function for histograms).\n",
      "  warnings.warn(msg, FutureWarning)\n"
     ]
    },
    {
     "data": {
      "image/png": "[encoded data removed]",
      "text/plain": [
       "<Figure size 1600x500 with 3 Axes>"
      ]
     },
     "metadata": {},
     "output_type": "display_data"
    }
   ],
   "source": [
    "aux = num_attributes.copy()\n",
    "\n",
    "plt.figure(figsize=(16,5))\n",
    "\n",
    "plt.subplot(1,3,1)\n",
    "sns.histplot(aux[\"person_age\"], color=\"black\")\n",
    "plt.xlabel(\"Person age (years)\")\n",
    "plt.xticks(rotation=45);\n",
    "\n",
    "plt.subplot(1,3,2)\n",
    "sns.distplot(aux[\"person_age\"], color=\"black\")\n",
    "plt.xlabel(\"Person age (years)\")\n",
    "plt.xticks(rotation=45);\n",
    "\n",
    "plt.subplot(1,3,3)\n",
    "sns.boxplot(y='person_age',data=aux, color=\"gray\")\n",
    "plt.ylabel(\"Person age (years)\")\n",
    "\n",
    "plt.subplots_adjust(wspace = 0.30);"
   ]
  },
  {
   "cell_type": "code",
   "execution_count": 26,
   "id": "a6536aa6",
   "metadata": {
    "ExecuteTime": {
     "end_time": "2023-11-29T14:59:48.412480Z",
     "start_time": "2023-11-29T14:59:47.858348Z"
    }
   },
   "outputs": [
    {
     "name": "stderr",
     "output_type": "stream",
     "text": [
      "/opt/anaconda3/lib/python3.9/site-packages/seaborn/distributions.py:2619: FutureWarning: `distplot` is a deprecated function and will be removed in a future version. Please adapt your code to use either `displot` (a figure-level function with similar flexibility) or `histplot` (an axes-level function for histograms).\n",
      "  warnings.warn(msg, FutureWarning)\n"
     ]
    },
    {
     "data": {
      "image/png": "[encoded data removed]",
      "text/plain": [
       "<Figure size 1600x500 with 3 Axes>"
      ]
     },
     "metadata": {},
     "output_type": "display_data"
    }
   ],
   "source": [
    "aux = num_attributes.copy()\n",
    "aux = aux[aux[\"person_age\"] <= 75]\n",
    "\n",
    "plt.figure(figsize=(16,5))\n",
    "\n",
    "plt.subplot(1,3,1)\n",
    "sns.histplot(aux[\"person_age\"], color=\"black\")\n",
    "plt.xlabel(\"Person age (years)\")\n",
    "plt.xticks(rotation=45);\n",
    "\n",
    "plt.subplot(1,3,2)\n",
    "sns.distplot(aux[\"person_age\"], color=\"black\")\n",
    "plt.xlabel(\"Person age (years)\")\n",
    "plt.xticks(rotation=45);\n",
    "\n",
    "plt.subplot(1,3,3)\n",
    "sns.boxplot(y='person_age',data=aux, color=\"gray\")\n",
    "plt.ylabel(\"Person age (years)\")\n",
    "\n",
    "plt.subplots_adjust(wspace = 0.30);"
   ]
  },
  {
   "cell_type": "code",
   "execution_count": 27,
   "id": "ab5486fa",
   "metadata": {
    "ExecuteTime": {
     "end_time": "2023-11-29T15:00:51.802737Z",
     "start_time": "2023-11-29T15:00:51.789930Z"
    }
   },
   "outputs": [
    {
     "data": {
      "text/html": [
       "<div>\n",
       "<style scoped>\n",
       "    .dataframe tbody tr th:only-of-type {\n",
       "        vertical-align: middle;\n",
       "    }\n",
       "\n",
       "    .dataframe tbody tr th {\n",
       "        vertical-align: top;\n",
       "    }\n",
       "\n",
       "    .dataframe thead th {\n",
       "        text-align: right;\n",
       "    }\n",
       "</style>\n",
       "<table border=\"1\" class=\"dataframe\">\n",
       "  <thead>\n",
       "    <tr style=\"text-align: right;\">\n",
       "      <th></th>\n",
       "      <th>count</th>\n",
       "      <th>mean</th>\n",
       "      <th>std</th>\n",
       "      <th>min</th>\n",
       "      <th>25%</th>\n",
       "      <th>50%</th>\n",
       "      <th>75%</th>\n",
       "      <th>max</th>\n",
       "    </tr>\n",
       "  </thead>\n",
       "  <tbody>\n",
       "    <tr>\n",
       "      <th>person_age</th>\n",
       "      <td>32406.00</td>\n",
       "      <td>27.72</td>\n",
       "      <td>6.17</td>\n",
       "      <td>20.00</td>\n",
       "      <td>23.00</td>\n",
       "      <td>26.00</td>\n",
       "      <td>30.00</td>\n",
       "      <td>73.00</td>\n",
       "    </tr>\n",
       "  </tbody>\n",
       "</table>\n",
       "</div>"
      ],
      "text/plain": [
       "              count  mean  std   min   25%   50%   75%   max\n",
       "person_age 32406.00 27.72 6.17 20.00 23.00 26.00 30.00 73.00"
      ]
     },
     "execution_count": 27,
     "metadata": {},
     "output_type": "execute_result"
    }
   ],
   "source": [
    "pd.set_option('display.float_format', lambda x: '%.2f' % x)\n",
    "pd.DataFrame(aux[\"person_age\"]).describe().T"
   ]
  },
  {
   "cell_type": "markdown",
   "id": "beb6cf9b",
   "metadata": {},
   "source": [
    "- Since we have a high value for kurtosis, we may assume there are outliers for person age.\n",
    "- Therefore, median is more representative than mean.\n",
    "- Median is around 26 years.\n",
    "- A value lower than 75 should be used as upper limit to remove outliers."
   ]
  },
  {
   "cell_type": "markdown",
   "id": "17740bf3",
   "metadata": {},
   "source": [
    "#### Person Income"
   ]
  },
  {
   "cell_type": "code",
   "execution_count": 35,
   "id": "c0a8bec7",
   "metadata": {
    "ExecuteTime": {
     "end_time": "2023-11-29T15:05:49.563028Z",
     "start_time": "2023-11-29T15:05:49.024475Z"
    }
   },
   "outputs": [
    {
     "name": "stderr",
     "output_type": "stream",
     "text": [
      "/opt/anaconda3/lib/python3.9/site-packages/seaborn/distributions.py:2619: FutureWarning: `distplot` is a deprecated function and will be removed in a future version. Please adapt your code to use either `displot` (a figure-level function with similar flexibility) or `histplot` (an axes-level function for histograms).\n",
      "  warnings.warn(msg, FutureWarning)\n"
     ]
    },
    {
     "data": {
      "image/png": "[encoded data removed]",
      "text/plain": [
       "<Figure size 1600x500 with 3 Axes>"
      ]
     },
     "metadata": {},
     "output_type": "display_data"
    }
   ],
   "source": [
    "aux = num_attributes.copy()\n",
    "aux = aux[aux[\"person_income\"] <= 250000]\n",
    "\n",
    "plt.figure(figsize=(16,5))\n",
    "\n",
    "plt.subplot(1,3,1)\n",
    "sns.histplot(aux[\"person_income\"], color=\"black\")\n",
    "plt.xlabel(\"Person income (USD)\")\n",
    "plt.xticks(rotation=45);\n",
    "\n",
    "plt.subplot(1,3,2)\n",
    "sns.distplot(aux[\"person_income\"], color=\"black\")\n",
    "plt.xlabel(\"Person income (USD)\")\n",
    "plt.xticks(rotation=45);\n",
    "\n",
    "plt.subplot(1,3,3)\n",
    "sns.boxplot(y='person_income',data=aux, color=\"gray\")\n",
    "plt.ylabel(\"Person income (USD)\")\n",
    "\n",
    "plt.subplots_adjust(wspace = 0.30);"
   ]
  },
  {
   "cell_type": "code",
   "execution_count": 36,
   "id": "51d730f7",
   "metadata": {
    "ExecuteTime": {
     "end_time": "2023-11-29T15:06:16.400931Z",
     "start_time": "2023-11-29T15:06:16.389581Z"
    }
   },
   "outputs": [
    {
     "data": {
      "text/html": [
       "<div>\n",
       "<style scoped>\n",
       "    .dataframe tbody tr th:only-of-type {\n",
       "        vertical-align: middle;\n",
       "    }\n",
       "\n",
       "    .dataframe tbody tr th {\n",
       "        vertical-align: top;\n",
       "    }\n",
       "\n",
       "    .dataframe thead th {\n",
       "        text-align: right;\n",
       "    }\n",
       "</style>\n",
       "<table border=\"1\" class=\"dataframe\">\n",
       "  <thead>\n",
       "    <tr style=\"text-align: right;\">\n",
       "      <th></th>\n",
       "      <th>count</th>\n",
       "      <th>mean</th>\n",
       "      <th>std</th>\n",
       "      <th>min</th>\n",
       "      <th>25%</th>\n",
       "      <th>50%</th>\n",
       "      <th>75%</th>\n",
       "      <th>max</th>\n",
       "    </tr>\n",
       "  </thead>\n",
       "  <tbody>\n",
       "    <tr>\n",
       "      <th>person_income</th>\n",
       "      <td>32184.00</td>\n",
       "      <td>63241.44</td>\n",
       "      <td>35600.17</td>\n",
       "      <td>4000.00</td>\n",
       "      <td>38400.00</td>\n",
       "      <td>55000.00</td>\n",
       "      <td>78000.00</td>\n",
       "      <td>250000.00</td>\n",
       "    </tr>\n",
       "  </tbody>\n",
       "</table>\n",
       "</div>"
      ],
      "text/plain": [
       "                 count     mean      std     min      25%      50%      75%  \\\n",
       "person_income 32184.00 63241.44 35600.17 4000.00 38400.00 55000.00 78000.00   \n",
       "\n",
       "                    max  \n",
       "person_income 250000.00  "
      ]
     },
     "execution_count": 36,
     "metadata": {},
     "output_type": "execute_result"
    }
   ],
   "source": [
    "pd.set_option('display.float_format', lambda x: '%.2f' % x)\n",
    "pd.DataFrame(aux[\"person_income\"]).describe().T"
   ]
  },
  {
   "cell_type": "markdown",
   "id": "03ec81ce",
   "metadata": {},
   "source": [
    "- Since we have a high value for kurtosis, we may assume there are outliers for person income.\n",
    "- Therefore, median is more representative than mean.\n",
    "- Median is around 55000 USD.\n",
    "- A value lower than 250000 USD should be used as upper limit to remove outliers."
   ]
  },
  {
   "cell_type": "markdown",
   "id": "7e1164a2",
   "metadata": {},
   "source": [
    "#### Person Employment Length"
   ]
  },
  {
   "cell_type": "code",
   "execution_count": 40,
   "id": "e429d5a1",
   "metadata": {
    "ExecuteTime": {
     "end_time": "2023-11-29T15:09:58.033245Z",
     "start_time": "2023-11-29T15:09:57.492819Z"
    }
   },
   "outputs": [
    {
     "name": "stderr",
     "output_type": "stream",
     "text": [
      "/opt/anaconda3/lib/python3.9/site-packages/seaborn/distributions.py:2619: FutureWarning: `distplot` is a deprecated function and will be removed in a future version. Please adapt your code to use either `displot` (a figure-level function with similar flexibility) or `histplot` (an axes-level function for histograms).\n",
      "  warnings.warn(msg, FutureWarning)\n"
     ]
    },
    {
     "data": {
      "image/png": "[encoded data removed]",
      "text/plain": [
       "<Figure size 1600x500 with 3 Axes>"
      ]
     },
     "metadata": {},
     "output_type": "display_data"
    }
   ],
   "source": [
    "aux = num_attributes.copy()\n",
    "aux = aux[aux[\"person_emp_length\"] <= 30]\n",
    "\n",
    "plt.figure(figsize=(16,5))\n",
    "\n",
    "plt.subplot(1,3,1)\n",
    "sns.histplot(aux[\"person_emp_length\"], color=\"black\")\n",
    "plt.xlabel(\"Person employment (years)\")\n",
    "plt.xticks(rotation=45);\n",
    "\n",
    "plt.subplot(1,3,2)\n",
    "sns.distplot(aux[\"person_emp_length\"], color=\"black\")\n",
    "plt.xlabel(\"Person employment (years)\")\n",
    "plt.xticks(rotation=45);\n",
    "\n",
    "plt.subplot(1,3,3)\n",
    "sns.boxplot(y='person_emp_length',data=aux, color=\"gray\")\n",
    "plt.ylabel(\"Person employment (yers)\")\n",
    "\n",
    "plt.subplots_adjust(wspace = 0.30);"
   ]
  },
  {
   "cell_type": "code",
   "execution_count": 41,
   "id": "22f4c13a",
   "metadata": {
    "ExecuteTime": {
     "end_time": "2023-11-29T15:10:26.284700Z",
     "start_time": "2023-11-29T15:10:26.272165Z"
    }
   },
   "outputs": [
    {
     "data": {
      "text/html": [
       "<div>\n",
       "<style scoped>\n",
       "    .dataframe tbody tr th:only-of-type {\n",
       "        vertical-align: middle;\n",
       "    }\n",
       "\n",
       "    .dataframe tbody tr th {\n",
       "        vertical-align: top;\n",
       "    }\n",
       "\n",
       "    .dataframe thead th {\n",
       "        text-align: right;\n",
       "    }\n",
       "</style>\n",
       "<table border=\"1\" class=\"dataframe\">\n",
       "  <thead>\n",
       "    <tr style=\"text-align: right;\">\n",
       "      <th></th>\n",
       "      <th>count</th>\n",
       "      <th>mean</th>\n",
       "      <th>std</th>\n",
       "      <th>min</th>\n",
       "      <th>25%</th>\n",
       "      <th>50%</th>\n",
       "      <th>75%</th>\n",
       "      <th>max</th>\n",
       "    </tr>\n",
       "  </thead>\n",
       "  <tbody>\n",
       "    <tr>\n",
       "      <th>person_emp_length</th>\n",
       "      <td>32407.00</td>\n",
       "      <td>4.62</td>\n",
       "      <td>4.07</td>\n",
       "      <td>-1.00</td>\n",
       "      <td>2.00</td>\n",
       "      <td>4.00</td>\n",
       "      <td>7.00</td>\n",
       "      <td>30.00</td>\n",
       "    </tr>\n",
       "  </tbody>\n",
       "</table>\n",
       "</div>"
      ],
      "text/plain": [
       "                     count  mean  std   min  25%  50%  75%   max\n",
       "person_emp_length 32407.00  4.62 4.07 -1.00 2.00 4.00 7.00 30.00"
      ]
     },
     "execution_count": 41,
     "metadata": {},
     "output_type": "execute_result"
    }
   ],
   "source": [
    "pd.set_option('display.float_format', lambda x: '%.2f' % x)\n",
    "pd.DataFrame(aux[\"person_emp_length\"]).describe().T"
   ]
  },
  {
   "cell_type": "markdown",
   "id": "87b41fa2",
   "metadata": {},
   "source": [
    "- Since we have a high value for kurtosis, we may assume there are outliers for person employment.\n",
    "- Therefore, median is more representative than mean.\n",
    "- Median is around 4 USD.\n",
    "- A value lower than 30 years should be used as upper limit to remove outliers."
   ]
  },
  {
   "cell_type": "code",
   "execution_count": null,
   "id": "14620f17",
   "metadata": {},
   "outputs": [],
   "source": []
  },
  {
   "cell_type": "code",
   "execution_count": null,
   "id": "f0048de6",
   "metadata": {},
   "outputs": [],
   "source": []
  },
  {
   "cell_type": "code",
   "execution_count": null,
   "id": "2e35c814",
   "metadata": {},
   "outputs": [],
   "source": []
  },
  {
   "cell_type": "code",
   "execution_count": null,
   "id": "d66fdf3a",
   "metadata": {},
   "outputs": [],
   "source": []
  },
  {
   "cell_type": "code",
   "execution_count": null,
   "id": "c40be7b4",
   "metadata": {},
   "outputs": [],
   "source": []
  }
 ],
 "metadata": {
  "kernelspec": {
   "display_name": "Python 3 (ipykernel)",
   "language": "python",
   "name": "python3"
  },
  "language_info": {
   "codemirror_mode": {
    "name": "ipython",
    "version": 3
   },
   "file_extension": ".py",
   "mimetype": "text/x-python",
   "name": "python",
   "nbconvert_exporter": "python",
   "pygments_lexer": "ipython3",
   "version": "3.9.13"
  }
 },
 "nbformat": 4,
 "nbformat_minor": 5
}
